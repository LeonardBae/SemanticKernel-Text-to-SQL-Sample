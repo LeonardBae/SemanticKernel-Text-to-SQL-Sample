{
 "cells": [
  {
   "cell_type": "markdown",
   "metadata": {},
   "source": [
    "# Semantic Kernel을 활용한 자연어 처리 및 데이터베이스 쿼리 시스템\n",
    "\n",
    "## 1. 필요한 라이브러리 임포트\n",
    "\n",
    "이 섹션에서는 프로젝트에 필요한 모든 라이브러리를 임포트합니다. Semantic Kernel, Azure OpenAI, 그리고 데이터베이스 연결을 위한 라이브러리들이 포함됩니다."
   ]
  },
  {
   "cell_type": "code",
   "execution_count": 24,
   "metadata": {},
   "outputs": [],
   "source": [
    "import os\n",
    "import json\n",
    "import pyodbc\n",
    "from semantic_kernel import Kernel\n",
    "from semantic_kernel.functions import kernel_function\n",
    "from semantic_kernel.functions.kernel_arguments import KernelArguments\n",
    "from semantic_kernel.connectors.ai.open_ai import AzureChatCompletion"
   ]
  },
  {
   "cell_type": "markdown",
   "metadata": {},
   "source": [
    "## 2. 데이터베이스 연결 설정\n",
    "\n",
    "Azure SQL 데이터베이스 연결을 위한 설정을 정의합니다."
   ]
  },
  {
   "cell_type": "code",
   "execution_count": 25,
   "metadata": {},
   "outputs": [],
   "source": [
    "SQL_CONFIG = {\n",
    "    \"server\": os.getenv(\"SQL_SERVER\"),\n",
    "    \"database\": os.getenv(\"SQL_DATABASE\"),\n",
    "    \"username\": os.getenv(\"SQL_USERNAME\"),\n",
    "    \"password\": os.getenv(\"SQL_PASSWORD\"),\n",
    "    \"driver\": os.getenv(\"SQL_DRIVER\", \"{ODBC Driver 18 for SQL Server}\")\n",
    "}"
   ]
  },
  {
   "cell_type": "markdown",
   "metadata": {},
   "source": [
    "## 3. Semantic Kernel 초기화 및 Azure OpenAI 설정\n",
    "\n",
    "Semantic Kernel을 초기화하고 Azure OpenAI 서비스를 추가합니다. 이는 자연어 처리 작업의 핵심이 됩니다."
   ]
  },
  {
   "cell_type": "code",
   "execution_count": 26,
   "metadata": {},
   "outputs": [],
   "source": [
    "# Semantic Kernel 초기화\n",
    "kernel = Kernel()\n",
    "\n",
    "# Azure OpenAI 서비스 추가\n",
    "kernel.add_service(\n",
    "    AzureChatCompletion(\n",
    "        service_id=\"azure_open_ai\",\n",
    "        deployment_name=os.getenv(\"AZURE_OPENAI_DEPLOYMENT_NAME\"),\n",
    "        endpoint=os.getenv(\"AZURE_OPENAI_ENDPOINT\"),\n",
    "        api_key=os.getenv(\"AZURE_OPENAI_API_KEY\")\n",
    "    )\n",
    ")"
   ]
  },
  {
   "cell_type": "markdown",
   "metadata": {},
   "source": [
    "## 4. NLP → SQL 변환 플러그인\n",
    "\n",
    "이 플러그인은 자연어 입력을 SQL 쿼리로 변환합니다. Semantic Kernel의 `kernel_function` 데코레이터를 사용하여 함수를 정의합니다."
   ]
  },
  {
   "cell_type": "code",
   "execution_count": 27,
   "metadata": {},
   "outputs": [],
   "source": [
    "# Semantic Kernel의 kernel_function 데코레이터 사용\n",
    "class ConvertNlpToSqlPlugin:\n",
    "    @kernel_function(\n",
    "        name=\"nlp_to_sql\",\n",
    "        description=\"자연어 설명을 바탕으로 SQL 쿼리 작성\"\n",
    "    )\n",
    "    async def nlp_to_sql(self, user_input) -> str:\n",
    "        prompt = \"\"\"\n",
    "        [역할]  \n",
    "        당신은 SQL 전문가입니다. 주어진 요청 사항을 기반으로 정확한 SQL 쿼리를 생성하세요.  \n",
    "\n",
    "        ---  \n",
    "        요청사항: {{$request}}\n",
    "        ---  \n",
    "\n",
    "        [테이블 스키마]  \n",
    "        다음 테이블을 기반으로 SQL 쿼리를 작성해야 합니다.  \n",
    "\n",
    "        CREATE TABLE Customers (  \n",
    "            CustomerID INT PRIMARY KEY,  \n",
    "            Name NVARCHAR(50) NOT NULL,  \n",
    "            Email NVARCHAR(50) UNIQUE,  \n",
    "            JoinDate DATETIME DEFAULT GETDATE()  \n",
    "        );  \n",
    "\n",
    "        CREATE TABLE Orders (  \n",
    "            OrderID INT PRIMARY KEY,  \n",
    "            CustomerID INT FOREIGN KEY REFERENCES Customers(CustomerID),  \n",
    "            Product NVARCHAR(50)  \n",
    "                CONSTRAINT CK_Orders_Product  \n",
    "                CHECK (Product IN ('노트북', '스마트폰', '태블릿')),  \n",
    "            Quantity INT CHECK (Quantity > 0),  \n",
    "            OrderDate DATETIME  \n",
    "        );  \n",
    "\n",
    "        - Customers 테이블은 고객 정보를 포함하며, CustomerID는 기본 키입니다.\n",
    "        - Orders 테이블은 주문 정보를 저장하며, CustomerID는 Customers 테이블의 외래 키입니다.\n",
    "        - Product는 '노트북', '스마트폰', '태블릿' 중 하나여야 합니다.\n",
    "        - Quantity는 0보다 커야 합니다.\n",
    "        - JoinDate와 OrderDate는 날짜 필드입니다.\n",
    "\n",
    "        [규칙]  \n",
    "        - 출력은 항상 유효한 SQL 쿼리여야 합니다.\n",
    "        - 테이블 스키마를 준수하며, 잘못된 컬럼명을 사용하지 않습니다.\n",
    "        - 불필요한 복잡성을 피하고 최적화된 SQL을 생성합니다.\n",
    "        - 필요한 경우 JOIN, WHERE, GROUP BY, ORDER BY를 적절히 사용합니다.\n",
    "        - 출력 형식은 SQL 코드 블록(sql ... )을 제외해야 합니다.\n",
    "        - 날짜 기반 쿼리의 경우 'YYYY-MM-DD' 형식으로 비교합니다.  \n",
    "\n",
    "        SQL 쿼리:  \n",
    "        \"\"\"\n",
    "        # Semantic Kernel의 KernelArguments 사용\n",
    "        arguments = KernelArguments(request=user_input)\n",
    "        # Semantic Kernel의 invoke_prompt 메서드 사용\n",
    "        raw_sql = await kernel.invoke_prompt(prompt=prompt, arguments=arguments)\n",
    "        generated_sql = str(raw_sql).strip()\n",
    "        print(f\"[생성된 Query]\\n{generated_sql}\")\n",
    "        return generated_sql"
   ]
  },
  {
   "cell_type": "markdown",
   "metadata": {},
   "source": [
    "## 5. SQL 실행 플러그인\n",
    "\n",
    "이 플러그인은 생성된 SQL 쿼리를 실행하고 결과를 반환합니다. 역시 `kernel_function` 데코레이터를 사용합니다."
   ]
  },
  {
   "cell_type": "code",
   "execution_count": 28,
   "metadata": {},
   "outputs": [],
   "source": [
    "# Semantic Kernel의 kernel_function 데코레이터 사용\n",
    "class QueryDbPlugin:\n",
    "    @kernel_function(\n",
    "        name=\"execute_query\",\n",
    "        description=\"데이터베이스에서 SQL 쿼리 실행\"\n",
    "    )\n",
    "    async def execute_query(self, query: str) -> list:  \n",
    "        cleaned_query = query.strip()\n",
    "        conn_str = f\"DRIVER={SQL_CONFIG['driver']};SERVER={SQL_CONFIG['server']};DATABASE={SQL_CONFIG['database']};UID={SQL_CONFIG['username']};PWD={SQL_CONFIG['password']};Encrypt=yes;TrustServerCertificate=no;\"        \n",
    "        try:\n",
    "            with pyodbc.connect(conn_str) as conn:\n",
    "                cursor = conn.cursor()\n",
    "                cursor.execute(query)\n",
    "                return [dict(zip([col[0] for col in cursor.description], row)) \n",
    "                        for row in cursor.fetchall()]\n",
    "        except pyodbc.Error as e:\n",
    "            return print(\"DATABASE_ERROR\", f\"데이터베이스 오류: {str(e)}\")"
   ]
  },
  {
   "cell_type": "markdown",
   "metadata": {},
   "source": [
    "## 6. 응답 포맷팅 플러그인\n",
    "\n",
    "이 플러그인은 데이터베이스 쿼리 결과를 사용자 친화적인 형식으로 변환합니다.\n"
   ]
  },
  {
   "cell_type": "code",
   "execution_count": 29,
   "metadata": {},
   "outputs": [],
   "source": [
    "# Semantic Kernel의 kernel_function 데코레이터 사용\n",
    "class FormatResponsePlugin:\n",
    "    @kernel_function(\n",
    "        name=\"format_data\",\n",
    "        description=\"쿼리 결과를 사용자 친화적 형식으로 변환\"\n",
    "    )\n",
    "    async def format_data(self, db_result: str, user_input: str) -> str:\n",
    "        prompt = \"\"\"\n",
    "        [사용자 요청]\n",
    "        {{$request}}\n",
    "\n",
    "        [쿼리 결과] \n",
    "        {{$result}}\n",
    "\n",
    "        [변환 규칙]\n",
    "        1. 기술적 용어 제거\n",
    "        2. 날짜는 'YYYY년 MM월 DD일' 형식\n",
    "        3. 숫자에 천 단위 구분기호 사용\n",
    "        4. 주요 통계 수치 강조\n",
    "\n",
    "        [예시]\n",
    "        결과: [{'Name':'홍길동', 'OrderDate': '2024-02-10 11:00:00'}]\n",
    "        응답: 홍길동 고객님은 2024년 02월 10일에 주문하셨습니다.\n",
    "        \"\"\"\n",
    "        # Semantic Kernel의 KernelArguments 사용\n",
    "        arguments = KernelArguments(request=user_input, result=db_result)\n",
    "        # Semantic Kernel의 invoke_prompt 메서드 사용\n",
    "        return await kernel.invoke_prompt(prompt=prompt, arguments=arguments)"
   ]
  },
  {
   "cell_type": "markdown",
   "metadata": {},
   "source": [
    "## 7. 플러그인 등록\n",
    "\n",
    "생성한 플러그인들을 Semantic Kernel에 등록합니다.\n"
   ]
  },
  {
   "cell_type": "code",
   "execution_count": 30,
   "metadata": {},
   "outputs": [
    {
     "data": {
      "text/plain": [
       "KernelPlugin(name='ResponseFormatter', description=None, functions={'format_data': KernelFunctionFromMethod(metadata=KernelFunctionMetadata(name='format_data', plugin_name='ResponseFormatter', description='쿼리 결과를 사용자 친화적 형식으로 변환', parameters=[KernelParameterMetadata(name='db_result', description=None, default_value=None, type_='str', is_required=True, type_object=<class 'str'>, schema_data={'type': 'string'}, include_in_function_choices=True), KernelParameterMetadata(name='user_input', description=None, default_value=None, type_='str', is_required=True, type_object=<class 'str'>, schema_data={'type': 'string'}, include_in_function_choices=True)], is_prompt=False, is_asynchronous=True, return_parameter=KernelParameterMetadata(name='return', description='', default_value=None, type_='str', is_required=True, type_object=<class 'str'>, schema_data={'type': 'string'}, include_in_function_choices=True), additional_properties={}), invocation_duration_histogram=<opentelemetry.metrics._internal.instrument._ProxyHistogram object at 0x0000025DE060B1D0>, streaming_duration_histogram=<opentelemetry.metrics._internal.instrument._ProxyHistogram object at 0x0000025DE060BB30>, method=<bound method FormatResponsePlugin.format_data of <__main__.FormatResponsePlugin object at 0x0000025DE04194C0>>, stream_method=None)})"
      ]
     },
     "execution_count": 30,
     "metadata": {},
     "output_type": "execute_result"
    }
   ],
   "source": [
    "# Semantic Kernel의 add_plugin 메서드 사용\n",
    "kernel.add_plugin(ConvertNlpToSqlPlugin(), \"SqlGenerator\")\n",
    "kernel.add_plugin(QueryDbPlugin(), \"DbExecutor\")\n",
    "kernel.add_plugin(FormatResponsePlugin(), \"ResponseFormatter\")"
   ]
  },
  {
   "cell_type": "markdown",
   "metadata": {},
   "source": [
    "## 8. 워크플로우 실행 함수\n",
    "\n",
    "전체 프로세스를 실행하는 함수를 정의합니다. 이 함수는 사용자 입력을 받아 SQL 생성, 쿼리 실행, 결과 포맷팅의 단계를 거칩니다."
   ]
  },
  {
   "cell_type": "code",
   "execution_count": 31,
   "metadata": {},
   "outputs": [],
   "source": [
    "# Semantic Kernel의 invoke 메서드와 get_function 메서드 사용\n",
    "async def process_request(user_input):\n",
    "    arguments = KernelArguments(user_input=user_input)\n",
    "    \n",
    "    # 1. SQL 생성 단계\n",
    "    sql_result = await kernel.invoke(kernel.get_function(\"SqlGenerator\", \"nlp_to_sql\"), arguments)\n",
    "    sql_query = str(sql_result).strip()\n",
    "    arguments = KernelArguments(query=sql_query)\n",
    "\n",
    "    # 2. 쿼리 실행 단계\n",
    "    db_result = await kernel.invoke(kernel.get_function(\"DbExecutor\", \"execute_query\"), arguments)\n",
    "    print(f\"[Query 수행 결과]\\n{db_result}\")\n",
    "    db_result_str = str(db_result).strip()\n",
    "    arguments = KernelArguments(db_result=db_result_str, user_input=user_input)\n",
    "\n",
    "    # 3. 결과 포맷팅 단계\n",
    "    formatted_response = await kernel.invoke(kernel.get_function(\"ResponseFormatter\", \"format_data\"), arguments)\n",
    "    \n",
    "    return formatted_response\n"
   ]
  },
  {
   "cell_type": "markdown",
   "metadata": {},
   "source": [
    "## 9. 실행 예시\n",
    " \n",
    "마지막으로, 전체 시스템을 테스트하는 실행 예시를 제공합니다."
   ]
  },
  {
   "cell_type": "code",
   "execution_count": 32,
   "metadata": {},
   "outputs": [
    {
     "name": "stdout",
     "output_type": "stream",
     "text": [
      "[사용자 입력]\n",
      "제품별 판매량을 알려줘\n",
      "[생성된 Query]\n",
      "SELECT  \n",
      "    Product,  \n",
      "    SUM(Quantity) AS TotalSales  \n",
      "FROM  \n",
      "    Orders  \n",
      "GROUP BY  \n",
      "    Product;\n",
      "[Query 수행 결과]\n",
      "{'Product': '노트북', 'TotalSales': 1},{'Product': '스마트폰', 'TotalSales': 2},{'Product': '태블릿', 'TotalSales': 1}\n",
      "[최종 응답]\n",
      "판매량 정보를 다음과 같이 정리했습니다:\n",
      "\n",
      "- **노트북:** 총 판매량 **1대**\n",
      "- **스마트폰:** 총 판매량 **2대**\n",
      "- **태블릿:** 총 판매량 **1대**\n",
      "\n",
      "필요한 추가 정보가 있다면 알려주세요! 😊\n"
     ]
    }
   ],
   "source": [
    "user_input = \"제품별 판매량을 알려줘\"\n",
    "print(f\"[사용자 입력]\\n{user_input}\")\n",
    "response = await process_request(user_input)\n",
    "print(f\"[최종 응답]\\n{response}\")"
   ]
  }
 ],
 "metadata": {
  "kernelspec": {
   "display_name": "Python 3",
   "language": "python",
   "name": "python3"
  },
  "language_info": {
   "codemirror_mode": {
    "name": "ipython",
    "version": 3
   },
   "file_extension": ".py",
   "mimetype": "text/x-python",
   "name": "python",
   "nbconvert_exporter": "python",
   "pygments_lexer": "ipython3",
   "version": "3.12.4"
  }
 },
 "nbformat": 4,
 "nbformat_minor": 2
}
